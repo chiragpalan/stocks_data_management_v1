{
 "cells": [
  {
   "cell_type": "code",
   "execution_count": 1,
   "id": "145f295b",
   "metadata": {},
   "outputs": [],
   "source": [
    "import os\n",
    "import sqlite3\n",
    "import logging\n",
    "from datetime import datetime\n",
    "import pytz\n",
    "import yfinance as yf\n",
    "import pandas as pd\n",
    "from tabulate import tabulate\n",
    "from datetime import timedelta"
   ]
  },
  {
   "cell_type": "code",
   "execution_count": null,
   "id": "785c5dc5",
   "metadata": {},
   "outputs": [],
   "source": [
    "STOCKS = [\n",
    "    \"RELIANCE.NS\", \"HDFCBANK.NS\", \"ICICIBANK.NS\", \"INFY.NS\", \"TCS.NS\",\n",
    "    \"ITC.NS\", \"HINDUNILVR.NS\", \"SBIN.NS\", \"BHARTIARTL.NS\", \"KOTAKBANK.NS\",\n",
    "    \"LT.NS\", \"AXISBANK.NS\", \"BAJFINANCE.NS\", \"ASIANPAINT.NS\", \"MARUTI.NS\",\n",
    "    \"SUNPHARMA.NS\", \"WIPRO.NS\", \"POWERGRID.NS\", \"NTPC.NS\", \"ONGC.NS\"\n",
    "]\n",
    "\n",
    "stock = \"RELIANCE.NS\"  # Example stock symbol"
   ]
  },
  {
   "cell_type": "code",
   "execution_count": 2,
   "id": "10473fe9",
   "metadata": {},
   "outputs": [
    {
     "ename": "NameError",
     "evalue": "name 'stock' is not defined",
     "output_type": "error",
     "traceback": [
      "\u001b[1;31m---------------------------------------------------------------------------\u001b[0m",
      "\u001b[1;31mNameError\u001b[0m                                 Traceback (most recent call last)",
      "Cell \u001b[1;32mIn[2], line 2\u001b[0m\n\u001b[0;32m      1\u001b[0m df \u001b[38;5;241m=\u001b[39m yf\u001b[38;5;241m.\u001b[39mdownload(\n\u001b[1;32m----> 2\u001b[0m             tickers\u001b[38;5;241m=\u001b[39m\u001b[43mstock\u001b[49m,\n\u001b[0;32m      3\u001b[0m             interval\u001b[38;5;241m=\u001b[39m\u001b[38;5;124m\"\u001b[39m\u001b[38;5;124m1m\u001b[39m\u001b[38;5;124m\"\u001b[39m,\n\u001b[0;32m      4\u001b[0m             period\u001b[38;5;241m=\u001b[39m\u001b[38;5;124m\"\u001b[39m\u001b[38;5;124m1d\u001b[39m\u001b[38;5;124m\"\u001b[39m,\n\u001b[0;32m      5\u001b[0m             progress\u001b[38;5;241m=\u001b[39m\u001b[38;5;28;01mFalse\u001b[39;00m\n\u001b[0;32m      6\u001b[0m         )\n",
      "\u001b[1;31mNameError\u001b[0m: name 'stock' is not defined"
     ]
    }
   ],
   "source": [
    "df = yf.download(\n",
    "            tickers=stock,\n",
    "            interval=\"1m\",\n",
    "            period=\"1d\",\n",
    "            progress=False\n",
    "        )"
   ]
  },
  {
   "cell_type": "code",
   "execution_count": null,
   "id": "00aa2325",
   "metadata": {},
   "outputs": [],
   "source": []
  }
 ],
 "metadata": {
  "kernelspec": {
   "display_name": "Python 3",
   "language": "python",
   "name": "python3"
  },
  "language_info": {
   "codemirror_mode": {
    "name": "ipython",
    "version": 3
   },
   "file_extension": ".py",
   "mimetype": "text/x-python",
   "name": "python",
   "nbconvert_exporter": "python",
   "pygments_lexer": "ipython3",
   "version": "3.9.10"
  }
 },
 "nbformat": 4,
 "nbformat_minor": 5
}
